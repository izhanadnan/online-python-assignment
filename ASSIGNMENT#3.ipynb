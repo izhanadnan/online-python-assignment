{
 "cells": [
  {
   "cell_type": "code",
   "execution_count": 6,
   "id": "26dfe6fa",
   "metadata": {},
   "outputs": [
    {
     "name": "stdout",
     "output_type": "stream",
     "text": [
      ".Twinkle, twinkle, little star,\n",
      "\tHow I wonder what you are!\n",
      "\t\tUp above the world so high,\n",
      "\t\tLike a diamond in the sky.\n",
      "Twinkle, twinkle, little star,\n",
      "\tHow I wonder what you are\n"
     ]
    }
   ],
   "source": [
    "'''Q1. Write a Python program to print the following string in a specific format (see the\n",
    "output).Twinkle, twinkle, little star,\n",
    "How I wonder what you are!\n",
    "Up above the world so high,\n",
    "Like a diamond in the sky.\n",
    "\n",
    "Twinkle, twinkle, little star,\n",
    "How I wonder what you are'''\n",
    "print(\".Twinkle, twinkle, little star,\\n\\tHow I wonder what you are!\\n\\t\\tUp above the world so high,\\n\\t\\tLike a diamond in the sky.\\nTwinkle, twinkle, little star,\\n\\tHow I wonder what you are\")\n"
   ]
  },
  {
   "cell_type": "code",
   "execution_count": 7,
   "id": "6719780d",
   "metadata": {},
   "outputs": [
    {
     "name": "stdout",
     "output_type": "stream",
     "text": [
      "python version\n",
      "3.8.8 (default, Apr 13 2021, 15:08:03) [MSC v.1916 64 bit (AMD64)]\n"
     ]
    }
   ],
   "source": [
    "#Q2. Write a Python program to get the Python version you are using?\n",
    "import sys\n",
    "print(\"python version\")\n",
    "print(sys.version)\n",
    "\n"
   ]
  },
  {
   "cell_type": "code",
   "execution_count": 13,
   "id": "7518603e",
   "metadata": {},
   "outputs": [
    {
     "name": "stdout",
     "output_type": "stream",
     "text": [
      "current date and time:\n",
      "2021-10-23 02:33:38\n"
     ]
    }
   ],
   "source": [
    "#Q3. Write a Python program to display the current date and time?\n",
    "import datetime\n",
    "now = datetime.datetime.now()\n",
    "print(\"current date and time:\")\n",
    "print(now.strftime(\"%Y-%m-%d %H:%M:%S\" ))\n"
   ]
  },
  {
   "cell_type": "code",
   "execution_count": 14,
   "id": "9c8be899",
   "metadata": {},
   "outputs": [
    {
     "name": "stdout",
     "output_type": "stream",
     "text": [
      "input the radius o the circle:7\n",
      "the area of circle with radius7.0is153.93804002589985\n"
     ]
    }
   ],
   "source": [
    "'''Q4:Write a Python program which accepts the radius of a circle from the user and compute\n",
    "the area.'''\n",
    "from math import pi\n",
    "R=float(input(\"input the radius o the circle:\" ))\n",
    "print(\"the area of circle with radius\" + str(R) + \"is\" + str(pi * R**2))"
   ]
  },
  {
   "cell_type": "code",
   "execution_count": 16,
   "id": "d1dd2073",
   "metadata": {},
   "outputs": [
    {
     "name": "stdout",
     "output_type": "stream",
     "text": [
      "enter your first name:izhan\n",
      "enter your last name:adnan\n",
      "adnan izhan\n"
     ]
    }
   ],
   "source": [
    "'''Q5. Write a Python program which accepts the user's first and last name and print them in\n",
    "reverse order with a space between them.'''\n",
    "\n",
    "firstname = input(\"enter your first name:\")\n",
    "lastname = input(\"enter your last name:\")\n",
    "print(lastname + \" \" +firstname)\n"
   ]
  },
  {
   "cell_type": "code",
   "execution_count": 17,
   "id": "2f0201f2",
   "metadata": {},
   "outputs": [
    {
     "name": "stdout",
     "output_type": "stream",
     "text": [
      "enter first no:4\n",
      "enter second no:7\n",
      "11\n"
     ]
    }
   ],
   "source": [
    "#Q6:Write a python program which takes two inputs from user and print them addition?\n",
    "a=int(input(\"enter first no:\"))\n",
    "b=int(input(\"enter second no:\"))\n",
    "c=a+b\n",
    "print(c)\n"
   ]
  },
  {
   "cell_type": "code",
   "execution_count": 19,
   "id": "567acfe0",
   "metadata": {},
   "outputs": [
    {
     "name": "stdout",
     "output_type": "stream",
     "text": [
      "enter eng marks78\n",
      "enter phy marks55\n",
      "enter isl marks66\n",
      "enter pst marks77\n",
      "enter urdu marks89\n",
      "73.0\n",
      "A grade\n"
     ]
    }
   ],
   "source": [
    "'''Q7. Write a program which takes 5 inputs from user for different subject’s marks, total it\n",
    "and generate mark sheet using grades ?'''\n",
    "eng = int(input(\"enter eng marks\"))\n",
    "phy = int(input(\"enter phy marks\"))\n",
    "isl = int(input(\"enter isl marks\"))\n",
    "pst = int(input(\"enter pst marks\"))\n",
    "urdu = int(input(\"enter urdu marks\"))\n",
    "totalmarks=eng+phy+isl+pst+urdu\n",
    "total=(totalmarks)/500*100\n",
    "print(total)\n",
    "if total>=80 and total<100:\n",
    "    print(\"A1 grade\")\n",
    "elif total>=70 and total<80:\n",
    "    print(\"A grade\")\n",
    "elif total>=60 and total<70:\n",
    "    print(\"B grade\")\n",
    "elif total>=50 and total<60:\n",
    "    print(\"C grade\")\n",
    "else:\n",
    "    print(\"you are fail\")\n",
    "    \n",
    "    \n",
    "    \n",
    "    \n"
   ]
  },
  {
   "cell_type": "code",
   "execution_count": 21,
   "id": "d8c6f8ef",
   "metadata": {},
   "outputs": [
    {
     "name": "stdout",
     "output_type": "stream",
     "text": [
      "enter no6\n",
      "this is even number\n"
     ]
    }
   ],
   "source": [
    "'''Q8. Write a program which take input from user and identify that the given number is even\n",
    "or odd?'''\n",
    "num = int(input(\"enter no\"))\n",
    "mod =num%2\n",
    "if mod > 0:\n",
    "    print(\"this is odd number\")\n",
    "else:\n",
    "    print(\"this is even number\")\n",
    "    "
   ]
  },
  {
   "cell_type": "code",
   "execution_count": 25,
   "id": "d73b3667",
   "metadata": {},
   "outputs": [
    {
     "data": {
      "text/plain": [
       "9"
      ]
     },
     "execution_count": 25,
     "metadata": {},
     "output_type": "execute_result"
    }
   ],
   "source": [
    "#Q9. Write a program which print the length of the list?\n",
    "list=[2,3,4,5,6,7,8,9,4]\n",
    "len(list)\n",
    "\n",
    "\n",
    "\n"
   ]
  },
  {
   "cell_type": "code",
   "execution_count": 26,
   "id": "28d3affc",
   "metadata": {},
   "outputs": [
    {
     "name": "stdout",
     "output_type": "stream",
     "text": [
      "-5\n"
     ]
    }
   ],
   "source": [
    "#Q10.Write a Python program to sum all the numeric items in a list?\n",
    "def sum_list(items):\n",
    "    sum_numbers = 0\n",
    "    for x in items:\n",
    "        sum_numbers += x\n",
    "    return sum_numbers\n",
    "print(sum_list([1,2,-8]))"
   ]
  },
  {
   "cell_type": "code",
   "execution_count": 27,
   "id": "efe0c01f",
   "metadata": {},
   "outputs": [
    {
     "name": "stdout",
     "output_type": "stream",
     "text": [
      "2\n"
     ]
    }
   ],
   "source": [
    "#Q11.Write a Python program to get the largest number from a numeric list?\n",
    "def max_num_in_list( list ):\n",
    "    max = list[ 0 ]\n",
    "    for a in list:\n",
    "        if a > max:\n",
    "            max = a\n",
    "    return max\n",
    "print(max_num_in_list([1, 2, -8, 0]))\n",
    "\n"
   ]
  },
  {
   "cell_type": "code",
   "execution_count": 1,
   "id": "4d5134ca",
   "metadata": {},
   "outputs": [
    {
     "name": "stdout",
     "output_type": "stream",
     "text": [
      "1\n",
      "1\n",
      "2\n",
      "3\n"
     ]
    }
   ],
   "source": [
    "'''Q12. Take a list, say for example this one:\n",
    "    a = [1, 1, 2, 3, 5, 8, 13, 21, 34, 55, 89]\n",
    "    Write a program that prints out all the elements of the list that are less than 5.'''\n",
    "a = [1, 1, 2, 3, 5, 8, 13, 21, 34, 55, 89]\n",
    "for i in a:\n",
    "    if i < 5:\n",
    "        print(i)\n"
   ]
  },
  {
   "cell_type": "code",
   "execution_count": null,
   "id": "bf311c99",
   "metadata": {},
   "outputs": [],
   "source": []
  }
 ],
 "metadata": {
  "kernelspec": {
   "display_name": "Python 3",
   "language": "python",
   "name": "python3"
  },
  "language_info": {
   "codemirror_mode": {
    "name": "ipython",
    "version": 3
   },
   "file_extension": ".py",
   "mimetype": "text/x-python",
   "name": "python",
   "nbconvert_exporter": "python",
   "pygments_lexer": "ipython3",
   "version": "3.8.8"
  }
 },
 "nbformat": 4,
 "nbformat_minor": 5
}
